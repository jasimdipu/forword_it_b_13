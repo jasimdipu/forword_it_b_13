{
 "cells": [
  {
   "cell_type": "code",
   "execution_count": 32,
   "id": "e3a01835",
   "metadata": {},
   "outputs": [],
   "source": [
    "class Student:\n",
    "    # class properties -> attriubutes/variables(global, local), functions(builtin, custom)\n",
    "    # global variable\n",
    "    student_id = \"\"\n",
    "    student_name = \"\"\n",
    "    student_dept = \"\"\n",
    "    \n",
    "    # functions\n",
    "    # constructor-> builtin func\n",
    "    def __init__(self, s_id, s_name, s_dept):\n",
    "        self.student_id = s_id\n",
    "        self.student_name = s_name\n",
    "        self.student_dept = s_dept\n",
    "        \n",
    "    def getid(self):\n",
    "        return self.student_id\n",
    "    \n",
    "    def getname(self):\n",
    "        return self.student_name\n",
    "    \n",
    "    def getdept(self):\n",
    "        return self.student_dept\n",
    "    \n",
    "    def getrollnum():\n",
    "        rollnumber=23\n",
    "        return rollnumber\n",
    "    \n",
    "    def __str__(self):\n",
    "        return \"ID: \"+self.student_id+\"\\nName: \"+self.student_name+\"\\nDept: \"+self.student_dept\n",
    "    "
   ]
  },
  {
   "cell_type": "code",
   "execution_count": 33,
   "id": "8dd22e24",
   "metadata": {},
   "outputs": [],
   "source": [
    "# creat an object\n",
    "student = Student(\"swe34059\", \"Kamrul Hasan\", \"SWE\")"
   ]
  },
  {
   "cell_type": "code",
   "execution_count": 24,
   "id": "0cf7e353",
   "metadata": {},
   "outputs": [
    {
     "name": "stdout",
     "output_type": "stream",
     "text": [
      "ID: swe34059\n",
      "Name: Kamrul Hasan\n",
      "Dept: SWE\n"
     ]
    }
   ],
   "source": [
    "print(student)"
   ]
  },
  {
   "cell_type": "code",
   "execution_count": null,
   "id": "c92c77ae",
   "metadata": {},
   "outputs": [],
   "source": []
  },
  {
   "cell_type": "code",
   "execution_count": 25,
   "id": "79fecd40",
   "metadata": {},
   "outputs": [
    {
     "data": {
      "text/plain": [
       "('swe34059', 'Kamrul Hasan', 'SWE')"
      ]
     },
     "execution_count": 25,
     "metadata": {},
     "output_type": "execute_result"
    }
   ],
   "source": [
    "student.getid(), student.getname(), student.getdept()"
   ]
  },
  {
   "cell_type": "code",
   "execution_count": 27,
   "id": "e5996623",
   "metadata": {},
   "outputs": [],
   "source": [
    "student1 = Student(\"cse52345\", \"Al Sadik\", \"CSE\")"
   ]
  },
  {
   "cell_type": "code",
   "execution_count": 28,
   "id": "445076bb",
   "metadata": {},
   "outputs": [
    {
     "name": "stdout",
     "output_type": "stream",
     "text": [
      "ID: cse52345\n",
      "Name: Al Sadik\n",
      "Dept: CSE\n"
     ]
    }
   ],
   "source": [
    "print(student1)"
   ]
  },
  {
   "cell_type": "code",
   "execution_count": 29,
   "id": "ff93bdfc",
   "metadata": {},
   "outputs": [
    {
     "data": {
      "text/plain": [
       "('cse52345', 'Al Sadik', 'CSE')"
      ]
     },
     "execution_count": 29,
     "metadata": {},
     "output_type": "execute_result"
    }
   ],
   "source": [
    "student1.getid(), student1.getname(), student1.getdept()"
   ]
  },
  {
   "cell_type": "code",
   "execution_count": null,
   "id": "c650aa5c",
   "metadata": {},
   "outputs": [],
   "source": []
  }
 ],
 "metadata": {
  "kernelspec": {
   "display_name": "Python 3",
   "language": "python",
   "name": "python3"
  },
  "language_info": {
   "codemirror_mode": {
    "name": "ipython",
    "version": 3
   },
   "file_extension": ".py",
   "mimetype": "text/x-python",
   "name": "python",
   "nbconvert_exporter": "python",
   "pygments_lexer": "ipython3",
   "version": "3.8.8"
  }
 },
 "nbformat": 4,
 "nbformat_minor": 5
}
